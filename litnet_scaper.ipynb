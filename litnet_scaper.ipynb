{
 "cells": [
  {
   "cell_type": "code",
   "execution_count": 26,
   "metadata": {},
   "outputs": [],
   "source": [
    "import requests, re\n",
    "from bs4 import BeautifulSoup"
   ]
  },
  {
   "cell_type": "code",
   "execution_count": 30,
   "metadata": {},
   "outputs": [],
   "source": [
    "main_link = \"https://litnet.com/ru/reader/uteshenie-angela-muzyki-b59737?c=\"\n",
    "source = requests.get(link).text\n",
    "chapter_ids = re.findall(r'<option value=\"(\\d*?)\"', source)"
   ]
  },
  {
   "cell_type": "code",
   "execution_count": 31,
   "metadata": {},
   "outputs": [],
   "source": [
    "for i in range(len(chapter_ids)):\n",
    "    link = main_link + chapter_ids[i]\n",
    "    source = requests.get(link).text\n",
    "    soup = BeautifulSoup(source)\n",
    "    chapter = soup.find(\"div\", class_ = 'reader-text font-size-medium').get_text()\n",
    "    with open(\"uteshenie_angela_w.txt\", \"a\", encoding = 'windows-1251') as f:\n",
    "        f.write(chapter)"
   ]
  }
 ],
 "metadata": {
  "kernelspec": {
   "display_name": "Python 3",
   "language": "python",
   "name": "python3"
  },
  "language_info": {
   "codemirror_mode": {
    "name": "ipython",
    "version": 3
   },
   "file_extension": ".py",
   "mimetype": "text/x-python",
   "name": "python",
   "nbconvert_exporter": "python",
   "pygments_lexer": "ipython3",
   "version": "3.8.2"
  }
 },
 "nbformat": 4,
 "nbformat_minor": 4
}
